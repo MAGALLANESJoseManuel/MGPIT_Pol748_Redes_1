{
 "cells": [
  {
   "cell_type": "markdown",
   "id": "951d46a3-de0a-4b0f-9923-3ddf4f0000a8",
   "metadata": {},
   "source": [
    "<center><img src=\"https://i.imgur.com/YNtjmbq.png\" width=\"800\"></center> "
   ]
  },
  {
   "cell_type": "markdown",
   "id": "a8607510-5230-4696-af43-acfc51c0237c",
   "metadata": {},
   "source": [
    "# Práctica 1 – Introducción al uso de los Programas para Redes\n"
   ]
  },
  {
   "cell_type": "markdown",
   "id": "7aa749f7-feb2-4a1e-a2b3-52b4855b4903",
   "metadata": {},
   "source": [
    "<img align=\"right\" width=\"500\" height=\"100\" src=\"https://i.imgur.com/vxZjEn1.png\">\n",
    "\n",
    "Para trabajar con grafos (redes) hay una serie de programas que podemos utilizar. La gran diferencia radica en el tamaño del archivo que pueden manejar (complejidad de la red), en el costo del programa, la cantidad y actualización de funciones (algoritmos) implementados, y en si requieren o no programación.\n",
    "\n",
    "\n",
    "\n",
    "## **ESTRUCTURA DE DATOS**\n",
    "\n",
    "Veamos la imagen de un grafo en [wikipedia](https://en.wikipedia.org/wiki/Graph_(discrete_mathematics)):\n",
    "\n",
    "<img src=\"https://upload.wikimedia.org/wikipedia/commons/thumb/5/5b/6n-graf.svg/440px-6n-graf.svg.png\"/>\n",
    "\n",
    "De aquí notamos dos componentes básicos: los nodos (_vertex_) y los enlaces (_edges_). Los enlaces mostrados no tienen direccionalidad (flechas), pero pueden tenerla cuando queremos tener un grafo dirigido. Las redes son grafos, pero es una palabra más familiar que usaremos en nuestras sesiones.\n",
    "\n",
    "Como podemos tener una gran cantidad de nodos y enlaces, hay que saber elegir la estructura y la herramienta apropiada para crear una red. Por ejemplo, en esta hoja de calculo podemos ver los datos que utilizó Adolfo Figueroa en su artículo \"_Competition and circulation of economic elites: Theory and application to the case of Peru_\" del 2007, en dos formatos, la matriz de adyacencia (**adjancency matrix**) y la lista de enlaces (**edgelist**):"
   ]
  },
  {
   "cell_type": "code",
   "execution_count": 2,
   "id": "1cba3977-6164-4f4c-b696-0c6239a25714",
   "metadata": {},
   "outputs": [
    {
     "data": {
      "text/html": [
       "\n",
       "        <iframe\n",
       "            width=\"800\"\n",
       "            height=\"350\"\n",
       "            src=\"https://docs.google.com/spreadsheets/d/e/2PACX-1vReqFHgPvGpZiSozcooJkZOH7kOCvtpgtq0fvuIehQ6MfqM-To93umwRY0pJBZzoCetj_ptmLCpNnGv/pubhtml?\"\n",
       "            frameborder=\"0\"\n",
       "            allowfullscreen\n",
       "            \n",
       "        ></iframe>\n",
       "        "
      ],
      "text/plain": [
       "<IPython.lib.display.IFrame at 0x10e27bcd0>"
      ]
     },
     "execution_count": 2,
     "metadata": {},
     "output_type": "execute_result"
    }
   ],
   "source": [
    "from IPython.display import IFrame\n",
    "IFrame('https://docs.google.com/spreadsheets/d/e/2PACX-1vReqFHgPvGpZiSozcooJkZOH7kOCvtpgtq0fvuIehQ6MfqM-To93umwRY0pJBZzoCetj_ptmLCpNnGv/pubhtml?', 800, 350)"
   ]
  },
  {
   "cell_type": "markdown",
   "id": "2693fed5-6ad1-43e3-8fa4-986cc69b10a4",
   "metadata": {},
   "source": [
    "Ambos formatos son válidos, pero el edgelist, aun siendo más eficiente, suele no mostrar los nodos de la población bajo estudio que no tiene relaciones (_isolates_); por lo que usaremos en esta sesión la matriz de adyacencia."
   ]
  },
  {
   "attachments": {},
   "cell_type": "markdown",
   "id": "654c0d1a-fa6c-4e86-815c-70c8331d28b5",
   "metadata": {},
   "source": [
    "# LECTURA DE DATOS\n",
    "\n",
    "## Usando NETWORKX\n",
    "\n",
    "_Networkx_ es una librería de Python, un poderoso lenguaje de programación usado por cientistas de datos. Por ello podría instalar Python primero en su computadora (se recomienda [ANACONDA](https://www.anaconda.com/download)). Ello no es necesario si desea usar la versión de Python que ofrece GOOGLE, [Colab](https://colab.research.google.com/).\n",
    "\n",
    "Si ya está en COLAB, preparese para leer los datos. La tabla antes mostrada, ya almacenada en Google Drive, puede ser utilizada directamente en Python (sea Anaconda o Colab) si contamos con el link:\n",
    "\n",
    "* Paso 1: _Compartir_ y _Publicar_ tabla en la web:\n",
    "  \n",
    "<img src=\"https://i.imgur.com/oYjaJR1.jpg\" width=\"300\"/>\n",
    "\n",
    "* Paso 2: Obtener el link\n",
    "\n",
    "<img src=\"https://i.imgur.com/TAaNxlo.jpg\" width=\"300\"/>\n",
    "\n",
    "La <ins>primera vez</ins> que haga el paso 2, debe presionar la opción \"_Publicar_\" (aqui ya aparece como _\"Publicado\"_)\n",
    "\n",
    "A continuación, si está usando Python, puede guardar el link en Python de manera sencilla:"
   ]
  },
  {
   "cell_type": "code",
   "execution_count": null,
   "id": "e8700c6c-2437-4165-a343-204fa3b9bdd6",
   "metadata": {},
   "outputs": [],
   "source": [
    "# link a google sheets entre \"comillas\" \n",
    "LinkToGoogle=\"https://docs.google.com/spreadsheets/d/e/2PACX-1vReqFHgPvGpZiSozcooJkZOH7kOCvtpgtq0fvuIehQ6MfqM-To93umwRY0pJBZzoCetj_ptmLCpNnGv/pub?output=xlsx\"\n"
   ]
  },
  {
   "cell_type": "markdown",
   "id": "ee06ef94-26d1-4540-9f83-8ddb260b8c29",
   "metadata": {},
   "source": [
    "Leamos la matriz de adyacencia, para lo cual primero leemos la tabla usando el link en con la libreria _pandas_:"
   ]
  },
  {
   "cell_type": "code",
   "execution_count": null,
   "id": "ed441af7-3006-4a15-b4b5-4306e7d4984d",
   "metadata": {},
   "outputs": [],
   "source": [
    "# leyendo matriz de adyacencia\n",
    "\n",
    "import pandas as pd\n",
    "\n",
    "adjacency=pd.read_excel(LinkToGoogle, # link a la tabla\n",
    "                        index_col=0,  # la columna '0' guarda los nombres\n",
    "                        sheet_name='adjacency') # la tabla tiene este nombre"
   ]
  },
  {
   "cell_type": "markdown",
   "id": "c3d52db0-c56e-4f94-acd2-2ebcbb87b178",
   "metadata": {},
   "source": [
    "El objeto **adjancency** guarda la tabla. Ahora se activa la librería **networkx**, y se crea la red:"
   ]
  },
  {
   "cell_type": "code",
   "execution_count": null,
   "id": "0c4338fe-3d2d-4494-83ab-5142243550f7",
   "metadata": {},
   "outputs": [],
   "source": [
    "# activar networkx \n",
    "import networkx as nx\n",
    "\n",
    "# crear red\n",
    "eliteFromAdjacency=nx.from_pandas_adjacency(adjacency)"
   ]
  },
  {
   "cell_type": "markdown",
   "id": "4379edca-eada-47cc-91c4-f6b61f67fde5",
   "metadata": {},
   "source": [
    "La red ya está creada, veamos:"
   ]
  },
  {
   "cell_type": "code",
   "execution_count": null,
   "id": "5db9cc7d-8f29-48fd-bb3f-ff6b1eac31d8",
   "metadata": {},
   "outputs": [],
   "source": [
    "# nodos de la red\n",
    "eliteFromAdjacency.nodes(data=True)"
   ]
  },
  {
   "cell_type": "code",
   "execution_count": null,
   "id": "eab7fbbf-f6ec-4fba-a11c-fecac8ee29b3",
   "metadata": {},
   "outputs": [],
   "source": [
    "# enlaces de la red\n",
    "eliteFromAdjacency.edges(data=True)"
   ]
  },
  {
   "cell_type": "markdown",
   "id": "afa3fe34-e048-4969-a506-07c83a39463b",
   "metadata": {},
   "source": [
    "Si quisieramos usar el _edgelist_, podríamos necesitaríamos:"
   ]
  },
  {
   "cell_type": "code",
   "execution_count": null,
   "id": "db6caf8b-7666-443b-a0dd-f434dffb3bfe",
   "metadata": {},
   "outputs": [],
   "source": [
    "edgeList=pd.read_excel(LinkToGoogle,\n",
    "                        sheet_name='edgelist') # la tabla tiene este nombre\n",
    "\n",
    "edgeList\n",
    "# crear red\n",
    "eliteFromEdgelist=nx.from_pandas_edgelist(edgeList,edge_attr=True)"
   ]
  },
  {
   "cell_type": "markdown",
   "id": "8810f433-d5ed-454a-b3c8-ccea9d76f01f",
   "metadata": {},
   "source": [
    "Veamos la diferencia:\n",
    "\n",
    "* Cantidad de Nodos:"
   ]
  },
  {
   "cell_type": "code",
   "execution_count": null,
   "id": "64f5f725-9255-4e29-994d-4f497f590570",
   "metadata": {},
   "outputs": [],
   "source": [
    "# 'len()' se usa para contar elementos\n",
    "len(eliteFromAdjacency.nodes()), len(eliteFromEdgelist.nodes())"
   ]
  },
  {
   "cell_type": "markdown",
   "id": "181422ae-d561-40d3-a683-22cc0377d91d",
   "metadata": {},
   "source": [
    "* Cantidad de enlaces:"
   ]
  },
  {
   "cell_type": "code",
   "execution_count": null,
   "id": "6900e772-9d3e-432d-9b38-781be64fa047",
   "metadata": {},
   "outputs": [],
   "source": [
    "len(eliteFromAdjacency.edges()), len(eliteFromEdgelist.edges())"
   ]
  },
  {
   "cell_type": "markdown",
   "id": "623091e3-75fe-42c2-a29c-d4964743f123",
   "metadata": {},
   "source": [
    "* Las islas del _edgelist_:"
   ]
  },
  {
   "cell_type": "code",
   "execution_count": null,
   "id": "9b515d99-9df6-4aed-aceb-0ce80cb85fb6",
   "metadata": {},
   "outputs": [],
   "source": [
    "list(nx.isolates(eliteFromEdgelist))"
   ]
  },
  {
   "cell_type": "markdown",
   "id": "4a197749-58f3-4af6-9723-48a630560584",
   "metadata": {},
   "source": [
    "* Las islas del _adjacency_:"
   ]
  },
  {
   "cell_type": "code",
   "execution_count": null,
   "id": "80d4d4a2-5c2a-4d4c-9f0b-c24110f602f2",
   "metadata": {},
   "outputs": [],
   "source": [
    "list(nx.isolates(eliteFromAdjacency))"
   ]
  },
  {
   "cell_type": "markdown",
   "id": "de6bb9f3-efcb-4469-abe2-d38dcd4fabb4",
   "metadata": {},
   "source": [
    "### Exportación\n",
    "\n",
    "Las redes creadas con Networkx pueden exportarse en diferentes formatos, que serán útiles en otros programas. Aquí grabaremos en el formato GML y GRAPHML:"
   ]
  },
  {
   "cell_type": "code",
   "execution_count": null,
   "id": "93707fc1-d225-4867-bb86-4ffc9f32cb99",
   "metadata": {},
   "outputs": [],
   "source": [
    "import os # para usar funciones de directorio\n",
    "\n",
    "filename1=os.path.join('data','eliteFromAdjacency.gml') # nombre incluye 'donde'\n",
    "filename2=os.path.join('data','eliteFromAdjacency.graphml') \n",
    "\n",
    "# guardando:\n",
    "nx.write_gml(eliteFromAdjacency,filename2)\n",
    "\n",
    "nx.write_graphml(eliteFromAdjacency,filename2)\n"
   ]
  },
  {
   "cell_type": "markdown",
   "id": "4cc94038-3638-4f15-905d-1e19c71be926",
   "metadata": {},
   "source": [
    "## Usando UCINET\n",
    "\n",
    "\n",
    "UCINET es un software de análisis de redes sociales desarrollado por Steve Borgatti, Martin Everett y Linton Freeman. El nombre \"UCINET\" proviene de \"University of California at Irvine NETwork\".  Para poder empezar, necesitas tener UCINET instalado en tu computadora. Puedes descargarlo desde el sitio web oficial de [UCINET](https://sites.google.com/site/ucinetsoftware/download?authuser=0) y seguir las instrucciones para la instalación. Recuerda que UCINET sólo funciona en Windows, y es un software de pago (puede usarlo sin pagar por tres meses).\n",
    "\n",
    "Si ya instaló UCINET, ejecútelo y verá esta pantalla:\n",
    "\n",
    "<img src=\"https://i.imgur.com/GVyrPUl.png\" width=\"900\"/>\n",
    "\n",
    "Cree una carpeta llamada **data** en su computadora, ahi dejará los archivos que usará de manera local en cada sesión.\n",
    "\n",
    "\n",
    "Leamos en UCINET la matriz de adyacencia. UCINET usa por defecto una carpeta; para estas sesiones, configuremos UCINET para que siempre vaya a la carpeta **data** que acabamos de crear. En la imagen que vemos, use el icono color izquierdo que se ubica en la parte inferior:\n",
    "\n",
    "\n",
    "<img src=\"https://i.imgur.com/7FQfCdj.png\" width=\"900\"/>\n",
    "\n",
    "Hay que llevar la data de GoogleSheets a la carpeta **data**. Para ello puedes ir a este [enlace](https://drive.google.com/drive/folders/1QXy0RwgNUBryirnVx0-_-rfr3WZxSld5?usp=sharing). Ingrese al archivo que encuentra en ese enlace, vaya a la opcion ARCHIVO (FILE) en el menú superior. Elija DESCARGAR (DOWNLOAD). Ahí descargue solo la primera hoja (Adjacencia) en formato CSV (comma-separated values). Descargue el archivo dentro de su carpeta data  **data**:\n",
    "\n",
    "<img src=\"https://i.imgur.com/VrcvBYI.jpg\" width=\"900\"/>\n",
    "\n",
    "\n",
    "\n",
    "Para que UCINET lea esa tabla, iremos a _matrix editor_, tercer ícono de la izquierda, como se ve aquí:\n",
    "\n",
    "<img src=\"https://i.imgur.com/wzaH7a0.jpg\" width=\"900\"/>\n",
    "\n",
    "Al pulsar ese icono se abrirá una ventana, seleccione la opción de abrir archivo: \n",
    "\n",
    "\n",
    "\n",
    "<img src=\"https://i.imgur.com/PtaFMPK.jpg\" width=\"400\"/>\n",
    "\n",
    "\n",
    "Inmediatamente, se cargará la matriz, y la verá así:\n",
    "\n",
    "\n",
    "<img src=\"https://i.imgur.com/C6B2Ntt.png\" width=\"400\"/>\n",
    "\n",
    "Finalmente, grabe la matriz en el formato propio de UCINET (.##h):\n",
    "\n",
    "\n",
    "<img src=\"https://i.imgur.com/HNoF09h.png\" width=\"400\"/>\n",
    "\n",
    "\n",
    "Para verificar que UCINET ya tiene bien grabado este archivo, puede abrirlo con la opción **Display** del menú _Data_:\n",
    "\n",
    "\n",
    "<img src=\"https://i.imgur.com/D9yxaA1.png\" width=\"400\"/>\n",
    "\n",
    "\n",
    "Luego de presionar _Display_, presione el recuadro con los puntos suspensivos y elija el archivo que se ha creado:\n",
    "\n",
    "<img src=\"https://i.imgur.com/DgYQG0u.png\" width=\"400\"/>\n",
    "\n",
    "De ahí, verá que ya UCINET reconoce esos datos:\n",
    "\n",
    "<img src=\"https://i.imgur.com/MupDVxl.png\" width=\"400\"/>"
   ]
  },
  {
   "cell_type": "markdown",
   "id": "4df6e60b-7008-4580-8094-9a8c38992251",
   "metadata": {},
   "source": [
    "<div class=\"alert-success\">\n",
    "\n",
    "## Ejercicio 1\n",
    "\n",
    "Le toca abrir el edgelist desde **UCINET**. Descarguela de GoogleSheets como un EXCEL (no CSV).\n",
    "\n",
    "    \n",
    "Esta vez, NO use el _matrix editor_ sino el **_DL Editor_**, cuyo ícono está al costado del primero.\n",
    "\n",
    "<img src=\"https://i.imgur.com/f8xJaXt.png\" width=\"400\"/>\n",
    "\n",
    "Una vez dentro del **_DL Editor_**, abra el archivo en Excel, seleccionando la hoja respectiva: **edgelist**.\n",
    "\n",
    "<img src=\"https://i.imgur.com/0wJuk7r.png\" width=\"400\"/>\n",
    "\n",
    "\n",
    "Se verá la tabla como edgelist. Ahora grábelo como archivo de UCINET. Para ello, **Usted** debe decidir:\n",
    "\n",
    "1. ¿Qué **formato** debe asignarse? (hay varios!...)\n",
    "\n",
    "<img src=\"https://i.imgur.com/yaiOm6Y.png\" width=\"400\"/>\n",
    "\n",
    "2. ¿Corresponde seleccionar algo aquí? - ¿Qué le dice su intuición?\n",
    "   \n",
    "<img src=\"https://i.imgur.com/AwHjtzq.png\" width=\"400\"/>\n",
    "\n",
    "Como antes, use la función **'Display'**. **Si el resultado no coincide con el de Networkx, vuelva a intentarlo**.\n",
    "\n",
    "\n",
    "</div>\n"
   ]
  },
  {
   "cell_type": "markdown",
   "id": "0dd266c0-26cd-4aa3-84e2-0ba0ddb978a0",
   "metadata": {},
   "source": [
    "<div class=\"alert-success\">\n",
    "\n",
    "## Ejercicio 2\n",
    "\n",
    "Use el archivo **GML** creado por Networkx. Para ello siga esta ruta:\n",
    "\n",
    "\n",
    "<img src=\"https://i.imgur.com/woIP2Se.png\" width=\"400\"/>\n",
    "\n",
    "**¿Qué resultado obtiene?**\n",
    "\n",
    "</div>"
   ]
  },
  {
   "cell_type": "markdown",
   "id": "f8f3f7bd-0dfd-41e0-a5af-f81a47646ad1",
   "metadata": {},
   "source": [
    "# VISUALIZACION DE REDES\n",
    "\n",
    "Es muy común producir gráficos de redes. La gráficas, si son bien hechas, pueden resaltar algunas propiedades de la red. No siempre es posible lograrlo cuando la red es muy grande y no muestra una estructura clara.\n",
    "\n",
    "## Usando NETWORKX\n",
    "\n",
    "Tenemos activa la red _eliteFromAdjacency_. Visualizarla con Networkx es muy sencillo:\n"
   ]
  },
  {
   "cell_type": "code",
   "execution_count": null,
   "id": "a17ffa3f-2895-4e46-9255-083e05a79733",
   "metadata": {},
   "outputs": [],
   "source": [
    "nx.draw(eliteFromAdjacency,with_labels=True)"
   ]
  },
  {
   "cell_type": "code",
   "execution_count": null,
   "id": "7cc68b03-16d7-40f3-b8f3-c98d35ec3049",
   "metadata": {},
   "outputs": [],
   "source": [
    "pos = nx.spiral_layout(eliteFromAdjacency)\n",
    "nx.draw(eliteFromAdjacency, pos=pos)"
   ]
  },
  {
   "cell_type": "markdown",
   "id": "1a7e64ce-6623-4b4e-adcc-95594f3e6533",
   "metadata": {},
   "source": [
    "Hay muchos _layouts_ disponibles, los de Networkx puedes revisarlos [aquí](https://networkx.org/documentation/stable/reference/drawing.html#).\n",
    "\n",
    "Hay dos buenas librería para visualizar esta red en Python:\n",
    "* netwulf\n",
    "* ipysigma\n",
    "\n",
    "Puedes instalarlas para ver estos ejemplos:"
   ]
  },
  {
   "cell_type": "code",
   "execution_count": null,
   "id": "17367236-aa10-4c67-8028-6f037eade298",
   "metadata": {},
   "outputs": [],
   "source": [
    "# !pip install netwulf ipysigma"
   ]
  },
  {
   "cell_type": "code",
   "execution_count": null,
   "id": "995579ea-c702-4682-a470-d6e41c4afee2",
   "metadata": {},
   "outputs": [],
   "source": [
    "# from netwulf import visualize\n",
    "\n",
    "# visualize(eliteFromAdjacency);"
   ]
  },
  {
   "cell_type": "code",
   "execution_count": null,
   "id": "ac54327a-3c26-4447-b7f4-bca1fb564dad",
   "metadata": {},
   "outputs": [],
   "source": [
    "# from google.colab import output   #solo  usar en Google Colab \n",
    "\n",
    "# output.enable_custom_widget_manager() #solo  usar en Google Colab \n",
    "\n",
    "# from ipysigma import Sigma\n",
    "\n",
    "# Sigma(eliteFromAdjacency)"
   ]
  },
  {
   "cell_type": "code",
   "execution_count": null,
   "id": "b1bc58b6-5ab4-48c8-bfd3-b3f22ce9d3eb",
   "metadata": {},
   "outputs": [],
   "source": []
  },
  {
   "cell_type": "markdown",
   "id": "19f004a3-350d-4b1a-96b2-3d720f4a90df",
   "metadata": {},
   "source": [
    "## Usando UCINET\n",
    "\n",
    "UCINET usa el programa NetDraw para gráficar. NetwDraw se instala cuando instalas UCINET.\n",
    "\n",
    "Si deseamos abrir la red de adyacencia creada en UCINET, damos 3 pasos:\n",
    "\n",
    "1. Activamos Netdraw usando su link.\n",
    "2. En NetDraw, abrimos los archivos de red, usando la carpeta con la letra 'U'.\n",
    "3. Ubicamos el archivo y lo abrimos.\n",
    "\n",
    "Veamos esos tres pasos en esta gráfica:\n",
    "\n",
    "<img src=\"https://i.imgur.com/HwxNf3J.png\" width=\"900\"/>\n",
    "\n",
    "La gráfica obtenida debe ser similar a esta:\n",
    "\n",
    "\n",
    "<img src=\"https://i.imgur.com/GEWRRW1.png\" width=\"900\"/>\n",
    "\n",
    "\n",
    "\n",
    "## Usando GEPHI\n",
    "\n",
    "Gephi es un software de visualización y exploración de redes, de código abierto y gratuito. El Gephi debe instalarse en la computadora directamente desde su [página web](https://gephi.org/users/download/). \n",
    "\n",
    "Hasta aquí tenemos varios archivos:\n",
    "\n",
    "* Un excel con la matriz de adyacencia.\n",
    "* Un GML con la matriz de adyacencia.\n",
    "* Un GRAPHML con la matriz de adyacencia.\n",
    "* Un UCINET (##h / ##d) con la matriz de adyacencia.\n",
    "\n",
    "\n",
    "Usemos el GRAPHML, obteniendo esto (¿salieron los nombres?):\n",
    "\n",
    "<img src=\"https://i.imgur.com/NOqc2WE.png\" width=\"900\"/>"
   ]
  },
  {
   "cell_type": "markdown",
   "id": "bea64553-c8a7-4354-8fa1-21494d810c8d",
   "metadata": {},
   "source": [
    "<div class=\"alert-success\">\n",
    "\n",
    "## Ejercicio 3\n",
    "\n",
    "Abra los demás archivos disponibles, menos los de UCINET.\n",
    "\n",
    "**¿Qué resultado obtiene?**\n",
    "\n",
    "</div>"
   ]
  },
  {
   "cell_type": "markdown",
   "id": "95dcbfb4-7b6f-4697-b4ef-7d374afa83b4",
   "metadata": {},
   "source": [
    "<div class=\"alert-success\">\n",
    "\n",
    "## Ejercicio 4\n",
    "\n",
    "Si tiene una red con los nombres en los nodos, descarguela como un archivo gráfico (PDF,PNG, etc.).\n",
    "En el menú principal, al seleccionar FILE use la opcion EXPORT para grabar la imagen vista.\n",
    "**¿Obtienes el resultado correcto?**\n",
    "\n",
    "</div>"
   ]
  }
 ],
 "metadata": {
  "kernelspec": {
   "display_name": "Python 3 (ipykernel)",
   "language": "python",
   "name": "python3"
  },
  "language_info": {
   "codemirror_mode": {
    "name": "ipython",
    "version": 3
   },
   "file_extension": ".py",
   "mimetype": "text/x-python",
   "name": "python",
   "nbconvert_exporter": "python",
   "pygments_lexer": "ipython3",
   "version": "3.11.5"
  }
 },
 "nbformat": 4,
 "nbformat_minor": 5
}
