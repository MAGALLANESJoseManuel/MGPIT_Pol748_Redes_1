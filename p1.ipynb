{
 "cells": [
  {
   "cell_type": "markdown",
   "id": "951d46a3-de0a-4b0f-9923-3ddf4f0000a8",
   "metadata": {},
   "source": [
    "<center><img src=\"https://i.imgur.com/YNtjmbq.png\" width=\"800\"></center> "
   ]
  },
  {
   "cell_type": "markdown",
   "id": "fcec64b5-771c-4942-ad30-1b8b6f032ad7",
   "metadata": {},
   "source": [
    "# Práctica 1 – Introducción al uso de los Programas para Redes\n",
    "\n",
    "Para trabajar con grafos (redes) hay una serie de programas que podemos utilizar. La gran diferencia radica en el tamaño del archivo que pueden manejar (complejidad de la red), en el costo del programa, la cantidad y actualización de funciones (algoritmos) implementados, y en si requieren o no programación. \n",
    "\n",
    "<img src=\"https://i.imgur.com/vxZjEn1.png\" width=\"400\">\n",
    "\n",
    "Veamos los casos de UCINET y GEPHI, a continuación.\n",
    "\n",
    "\n",
    "## **UCINET**:\n",
    "\n",
    "UCINET es un software de análisis de redes sociales desarrollado por Steve Borgatti, Martin Everett y Linton Freeman. El nombre \"UCINET\" proviene de \"University of California at Irvine NETwork\". El software es ampliamente utilizado en el campo de la sociología, pero también se aplica en otras áreas como la antropología, la economía, la geografía, la historia, la psicología, las ciencias políticas y las ciencias de la información, entre otras.\n",
    "\r",
    "UCINET permite a los usuarios crear, visualizar y analizar datos de redes sociales. Algunas de las características principales de UCINET incluyen:\r",
    "* __Importación y exportación de datos__: UCINET puede importar y exportar datos en varios formatos, incluyendo Excel, SPSS y otros formatos comunes de análisis de redes sociales.\n",
    "* __Análisis de redes__: UCINET ofrece una amplia gama de medidas y procedimientos para el análisis de redes, incluyendo medidas de centralidad (como grado, cercanía, intermediación), detección de subgrupos, análisis de equivalencia estructural y más.\n",
    "* __Visualización de redes__: Aunque UCINET no tiene capacidades de visualización incorporadas, se integra estrechamente con el software NetDraw para la visualización de redes.\n",
    "* __Manejo de datos__: UCINET también incluye capacidades para el manejo de datos, como la transformación de datos, la recodificación de variables y el manejo de datos faltantes.\n",
    "\r",
    "UCINET es un software de pago, pero ofrece una versión de prueba gratuita. También cuenta con una documentación y tutoriales completos para ayudar a los nuevos usuarios a familiarizarse con el software.\n",
    "\n",
    "1. Instalación de UCINET:\r",
    "Para poder empezar, necesitas tener UCINET instalado en tu computadora. Puedes descargarlo desde el sitio web oficial de [UCINET](https://sites.google.com/site/ucinetsoftware/download?authuser=0) y seguir las instrucciones para la instalación. Recuerda que UCINET sólo funciona en Windows\n",
    "\n",
    "2. Importar datos:\r",
    "Después de abrir UCINET, el primer paso es importar los datos que quieres analizar. Esto puede implicar la creación de una matriz de adyacencia o la importación de un archivo de datos existente.\r",
    "• Para importar datos, ve a Data > Import > Spreadsheet... y selecciona el archivo que deseas importar.\n",
    "\n",
    "\r",
    "3. Visualización de la red:\r",
    "Una vez que has importado los datos, puedes visualizar tu red utilizando el software NetDraw incluido con UCINET.\r",
    "• Para hacer esto, ve a Network > Visualize with NetDraw. En NetDraw, puedes modificar la apariencia de la red ajustando las opciones de color, tamaño, forma y etiqueta.\r\n",
    "4. Análisis de la red:\r",
    "UCINET ofrece una variedad de análisis de red, incluyendo medidas de centralidad, subgrupos, equivalencia estructural, entre otros.\r",
    "• Por ejemplo, para calcular la centralidad de grado (degree centrality), ve a Network > Centrality > Degree..., selecciona la red que quieres analizar y luego presiona el botón Run. Los resultados se abrirán en una nueva ventana.\r\n",
    "5. Exportar resultados:\r",
    "Finalmente, puedes exportar tus resultados para su posterior análisis o presentación.\r",
    "• Para hacerlo, ve a File > Save As... y elige el formato de archivo deseado.\r",
    "Con UCINET se puede realizar una variedad de análisis de red. Es recomendable explorar la documentación de UCINET.\r",
    "Página Web https://sites.google.com/site/ucinetsoftware/home\r\n",
    "\n",
    "## **GEPHI**\n",
    "\r",
    "Gephi es un software de visualización y exploración de redes, de código abierto y gratuito. Se utiliza para análisis de redes sociales, análisis de enlaces, biología, análisis de sistemas y diversos otros campos que involucran redes complejas. Es una poderosa herramienta para aquellos que buscan extraer y entender la información oculta en los datos de la red.\r",
    "Las principales características de Gephi incluyen:\r",
    "a. Visualización: Gephi permite a los usuarios visualizar redes y datos de gráficos en formas significativas, utilizando colores, tamaños y varias formas para representar diferentes atributos y propiedades de los nodos y aristas.\r",
    "b. Diseño: Gephi incorpora algoritmos de diseño que ayudan a mejorar la representación visual de redes complejas, permitiendo que las estructuras subyacentes sean más fácilmente identificables.\r",
    "c. Métricas: Gephi proporciona un conjunto completo de funciones de análisis de redes, incluyendo medidas de centralidad (grado, cercanía, intermediación), detección de comunidades, y más.\r",
    "d. Manipulación de datos: Gephi permite importar y exportar datos en una variedad de formatos, así como también filtrar, ordenar y explorar los datos de la red.\r",
    "e. Dinámica: Gephi también puede manejar redes dinámicas, lo que significa que puede representar redes que cambian con el tiempo, y proporciona una serie de herramientas para analizar y visualizar la evolución de las redes a lo largo del tiempo.\r",
    "Gephi está diseñado para ser intuitivo y fácil de usar, incluso para aquellos sin una formación técnica o de programación. Al mismo tiempo, es lo suficientemente potente como para ser utilizado por investigadores y científicos de datos para análisis en profundidad.\r",
    "Página Web https://gephi.org/\r",
    "1. Instalación de Gephi:\r",
    "Primero necesitarás tener Gephi instalado en tu computadora. Puedes descargarlo desde el sitio web oficial de Gephi y seguir las instrucciones de instalación.\r",
    "2. Importar datos:\r",
    "Después de abrir Gephi, el primer paso es importar los datos que quieres analizar.\r",
    "• Para importar datos, ve a File > Open... y selecciona el archivo que deseas importar.\r",
    "3. Explorar el gráfico:\r",
    "Una vez que has importado los datos, puedes explorar tu red en el área de gráficos.\r",
    "• Ajusta el tamaño y la apariencia de los nodos y las aristas en la pestaña Appearance.\r",
    "• Puedes también mover los nodos y aristas manualmente para mejorar la visualización.\r",
    "4. Análisis de la red:\r",
    "Gephi ofrece una variedad de análisis de red, incluyendo medidas de centralidad, modularidad, detección de comunidades, entre otros.\r",
    "• Por ejemplo, para calcular la centralidad de grado (degree centrality), ve a la pestaña Statistics y selecciona Average Degree. Luego, presiona el botón Run.\r",
    "• Para visualizar la estructura comunitaria, ejecuta el algoritmo de Modularity.\r",
    "5. Visualización de la red:\r",
    "Después de realizar el análisis de red, puedes mejorar aún más la visualización de la red.\r",
    "• Por ejemplo, puedes codificar por colores los nodos según sus atributos, como la centralidad de grado o la pertenencia a la comunidad.\r",
    "6. Exportar gráfico:\r",
    "Finalmente, puedes exportar tu gráfico para su posterior análisis o presentación.\r",
    "• Para hacer esto, ve a File > Export > Graph... o File > Export > SVG/PNG/PDF... y elige el formato de archivo deseado.\r",
    "Gephi es una herramienta que permite una variedad de análisis de red. Es recomendable explorar la documentación de Gephi."
   ]
  },
  {
   "cell_type": "code",
   "execution_count": 1,
   "id": "a6291c31-03d7-4ae0-aac7-db4f348b6d34",
   "metadata": {},
   "outputs": [
    {
     "name": "stdout",
     "output_type": "stream",
     "text": [
      "adding path\n"
     ]
    }
   ],
   "source": [
    "import sys\n",
    "if \"/Library/TeX/texbin/xetex\" not in sys.path:\n",
    "    print('adding path') # I just add this to know if the path was present or not.\n",
    "    sys.path.append(\"/Library/TeX/texbin/xetex\")"
   ]
  },
  {
   "cell_type": "code",
   "execution_count": null,
   "id": "315ea727-89ae-4162-91f0-523512ba15dc",
   "metadata": {},
   "outputs": [],
   "source": []
  }
 ],
 "metadata": {
  "kernelspec": {
   "display_name": "Python 3 (ipykernel)",
   "language": "python",
   "name": "python3"
  },
  "language_info": {
   "codemirror_mode": {
    "name": "ipython",
    "version": 3
   },
   "file_extension": ".py",
   "mimetype": "text/x-python",
   "name": "python",
   "nbconvert_exporter": "python",
   "pygments_lexer": "ipython3",
   "version": "3.11.5"
  }
 },
 "nbformat": 4,
 "nbformat_minor": 5
}
